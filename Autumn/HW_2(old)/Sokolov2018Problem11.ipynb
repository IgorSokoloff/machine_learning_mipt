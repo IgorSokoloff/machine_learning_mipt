{
 "cells": [
  {
   "cell_type": "markdown",
   "metadata": {},
   "source": [
    "# ДЗ 2"
   ]
  },
  {
   "cell_type": "markdown",
   "metadata": {},
   "source": [
    "## Соколов Игорь\n",
    "### Группа 573"
   ]
  },
  {
   "cell_type": "markdown",
   "metadata": {},
   "source": [
    "#### Задача 11\n",
    "Нарисовать траекторию пошагового спуска к минимуму градиентного метода и имитации отжига. Сравнить их работу при поиске мимимума тестовой функции"
   ]
  },
  {
   "cell_type": "markdown",
   "metadata": {},
   "source": [
    "<img src=\"func.png\" width=linewidth align=\"center\"/>"
   ]
  },
  {
   "cell_type": "markdown",
   "metadata": {},
   "source": [
    "Будем решать задачу при $N=2$"
   ]
  },
  {
   "cell_type": "code",
   "execution_count": 29,
   "metadata": {},
   "outputs": [],
   "source": [
    "%matplotlib inline\n",
    "import numpy as np\n",
    "import time\n",
    "from matplotlib import pyplot as plt\n",
    "import matplotlib as mpl\n",
    "#import seaborn as sns\n",
    "import scipy \n",
    "\n",
    "from IPython.display import Image\n",
    "from IPython.core.display import HTML \n",
    "import timeit\n",
    "#import numdifftools as nd\n",
    "import pandas as pd\n",
    "\n",
    "import warnings\n",
    "warnings.filterwarnings('ignore')\n",
    "\n",
    "from ipywidgets import FloatProgress\n",
    "from IPython.display import display\n",
    "\n",
    "import sys\n",
    "from scipy._lib.six import callable, xrange\n",
    "import go_benchmark as gb"
   ]
  },
  {
   "cell_type": "markdown",
   "metadata": {},
   "source": [
    "За основу функции, реализующую алгоритм метода имитации, отжига была взята **anneal** из библиотеки **scipy** (https://goo.gl/Q1y4pY).\n",
    "Была незначительно модернизирована."
   ]
  },
  {
   "cell_type": "code",
   "execution_count": 114,
   "metadata": {},
   "outputs": [],
   "source": [
    "from __future__ import division, print_function, absolute_import\n",
    "\n",
    "import numpy\n",
    "from numpy import (asarray, tan, exp, ones, squeeze, sign,\n",
    "        all, log, sqrt, pi, shape, array, minimum, where, random, deprecate)\n",
    "from scipy.optimize import OptimizeResult\n",
    "\n",
    "\n",
    "__all__ = ['anneal']\n",
    "\n",
    "_double_min = numpy.finfo(float).min\n",
    "_double_max = numpy.finfo(float).max\n",
    "\n",
    "\n",
    "class base_schedule(object):\n",
    "    def __init__(self):\n",
    "        self.dwell = 20\n",
    "        self.learn_rate = 0.5\n",
    "        self.lower = -10\n",
    "        self.upper = 10\n",
    "        self.Ninit = 50\n",
    "        self.accepted = 0\n",
    "        self.tests = 0\n",
    "        self.feval = 0\n",
    "        self.k = 0\n",
    "        self.T = None\n",
    "\n",
    "    def init(self, **options):\n",
    "        self.__dict__.update(options)\n",
    "        self.lower = asarray(self.lower)\n",
    "        self.lower = where(self.lower == numpy.NINF, -_double_max, self.lower)\n",
    "        self.upper = asarray(self.upper)\n",
    "        self.upper = where(self.upper == numpy.PINF, _double_max, self.upper)\n",
    "        self.k = 0\n",
    "        self.accepted = 0\n",
    "        self.feval = 0\n",
    "        self.tests = 0\n",
    "\n",
    "    def getstart_temp(self, best_state):\n",
    "        \"\"\" Find a matching starting temperature and starting parameters vector\n",
    "        i.e. find x0 such that func(x0) = T0.\n",
    "        Parameters\n",
    "        ----------\n",
    "        best_state : _state\n",
    "            A _state object to store the function value and x0 found.\n",
    "        Returns\n",
    "        -------\n",
    "        x0 : array\n",
    "            The starting parameters vector.\n",
    "        \"\"\"\n",
    "\n",
    "        assert(not self.dims is None)\n",
    "        lrange = self.lower\n",
    "        urange = self.upper\n",
    "        fmax = _double_min\n",
    "        fmin = _double_max\n",
    "        for _ in range(self.Ninit):\n",
    "            x0 = random.uniform(size=self.dims)*(urange-lrange) + lrange\n",
    "            fval = self.func(x0, *self.args)\n",
    "            self.feval += 1\n",
    "            if fval > fmax:\n",
    "                fmax = fval\n",
    "            if fval < fmin:\n",
    "                fmin = fval\n",
    "                best_state.cost = fval\n",
    "                best_state.x = array(x0)\n",
    "\n",
    "        self.T0 = (fmax-fmin)*1.5\n",
    "        return best_state.x\n",
    "\n",
    "    def accept_test(self, dE):\n",
    "        T = self.T\n",
    "        self.tests += 1\n",
    "        if dE < 0:\n",
    "            self.accepted += 1\n",
    "            return 1\n",
    "        p = exp(-dE*1.0/self.boltzmann/T)\n",
    "        if (p > random.uniform(0.0, 1.0)):\n",
    "            self.accepted += 1\n",
    "            return 1\n",
    "        return 0\n",
    "\n",
    "    def update_guess(self, x0):\n",
    "        pass\n",
    "\n",
    "    def update_temp(self, x0):\n",
    "        pass\n",
    "\n",
    "\n",
    "#  A schedule due to Lester Ingber\n",
    "class fast_sa(base_schedule):\n",
    "    def init(self, **options):\n",
    "        self.__dict__.update(options)\n",
    "        if self.m is None:\n",
    "            self.m = 1.0\n",
    "        if self.n is None:\n",
    "            self.n = 1.0\n",
    "        self.c = self.m * exp(-self.n * self.quench)\n",
    "\n",
    "    def update_guess(self, x0):\n",
    "        x0 = asarray(x0)\n",
    "        u = squeeze(random.uniform(0.0, 1.0, size=self.dims))\n",
    "        T = self.T\n",
    "        y = sign(u-0.5)*T*((1+1.0/T)**abs(2*u-1)-1.0)\n",
    "        xc = y*(self.upper - self.lower)\n",
    "        xnew = x0 + xc\n",
    "        return xnew\n",
    "\n",
    "    def update_temp(self):\n",
    "        self.T = self.T0*exp(-self.c * self.k**(self.quench))\n",
    "        self.k += 1\n",
    "        return\n",
    "\n",
    "\n",
    "class cauchy_sa(base_schedule):\n",
    "    def update_guess(self, x0):\n",
    "        x0 = asarray(x0)\n",
    "        numbers = squeeze(random.uniform(-pi/2, pi/2, size=self.dims))\n",
    "        xc = self.learn_rate * self.T * tan(numbers)\n",
    "        xnew = x0 + xc\n",
    "        return xnew\n",
    "\n",
    "    def update_temp(self):\n",
    "        self.T = self.T0/(1+self.k)\n",
    "        self.k += 1\n",
    "        return\n",
    "\n",
    "\n",
    "class boltzmann_sa(base_schedule):\n",
    "    def update_guess(self, x0):\n",
    "        std = minimum(sqrt(self.T) * ones(self.dims),\n",
    "                      (self.upper - self.lower) / 3.0 / self.learn_rate)\n",
    "        x0 = asarray(x0)\n",
    "        xc = squeeze(random.normal(0, 1.0, size=self.dims))\n",
    "\n",
    "        xnew = x0 + xc*std*self.learn_rate\n",
    "        return xnew\n",
    "\n",
    "    def update_temp(self):\n",
    "        self.k += 1\n",
    "        self.T = self.T0 / log(self.k+1.0)\n",
    "        return\n",
    "\n",
    "\n",
    "class _state(object):\n",
    "    def __init__(self):\n",
    "        self.x = None\n",
    "        self.cost = None\n",
    "\n",
    "\n",
    "# TODO:\n",
    "#     allow for general annealing temperature profile\n",
    "#     in that case use update given by alpha and omega and\n",
    "#     variation of all previous updates and temperature?\n",
    "\n",
    "# Simulated annealing\n",
    "\n",
    "@deprecate(message='Deprecated in scipy 0.14.0, use basinhopping instead')\n",
    "def anneal(func, x0, args=(), schedule='fast', full_output=0,\n",
    "           T0=None, Tf=1e-12, maxeval=None, maxaccept=None, maxiter=400,\n",
    "           boltzmann=1.0, learn_rate=0.5, feps=1e-6, quench=1.0, m=1.0, n=1.0,\n",
    "           lower=-100, upper=100, dwell=50, disp=True):\n",
    "    opts = {'schedule': schedule,\n",
    "            'T0': T0,\n",
    "            'Tf': Tf,\n",
    "            'maxfev': maxeval,\n",
    "            'maxaccept': maxaccept,\n",
    "            'maxiter': maxiter,\n",
    "            'boltzmann': boltzmann,\n",
    "            'learn_rate': learn_rate,\n",
    "            'ftol': feps,\n",
    "            'quench': quench,\n",
    "            'm': m,\n",
    "            'n': n,\n",
    "            'lower': lower,\n",
    "            'upper': upper,\n",
    "            'dwell': dwell,\n",
    "            'disp': disp}\n",
    "\n",
    "    res, X, T = _minimize_anneal(func, x0, args, **opts)\n",
    "    return res, X, T\n",
    "    '''\n",
    "    if full_output:\n",
    "        return res['x'], X,res['fun'], res['T'], res['nfev'], res['nit'], \\\n",
    "            res['accept'], res['status']\n",
    "    else:\n",
    "        return res, X\n",
    "    '''\n",
    "\n",
    "def _minimize_anneal(func, x0, args=(),\n",
    "                     schedule='fast', T0=None, Tf=1e-12, maxfev=None,\n",
    "                     maxaccept=None, maxiter=400, boltzmann=1.0,\n",
    "                     learn_rate=0.5, ftol=1e-6, quench=1.0, m=1.0, n=1.0,\n",
    "                     lower=-100, upper=100, dwell=50, disp=False,\n",
    "                     **unknown_options):\n",
    "    #_check_unknown_options(unknown_options)\n",
    "    maxeval = maxfev\n",
    "    feps = ftol\n",
    "\n",
    "    x0 = asarray(x0)\n",
    "    \n",
    "    X = []\n",
    "    X.append(x0)\n",
    "    \n",
    "    T = []\n",
    "    \n",
    "\n",
    "    lower = asarray(lower)\n",
    "    upper = asarray(upper)\n",
    "\n",
    "    schedule = eval(schedule+'_sa()')\n",
    "    #   initialize the schedule\n",
    "    schedule.init(dims=shape(x0), func=func, args=args, boltzmann=boltzmann,\n",
    "                  T0=T0, learn_rate=learn_rate, lower=lower, upper=upper,\n",
    "                  m=m, n=n, quench=quench, dwell=dwell)\n",
    "\n",
    "    current_state, last_state, best_state = _state(), _state(), _state()\n",
    "    if T0 is None:\n",
    "        x0 = schedule.getstart_temp(best_state)\n",
    "    else:\n",
    "        best_state.x = None\n",
    "        best_state.cost = numpy.Inf\n",
    "    \n",
    "    last_state.x = asarray(x0).copy()\n",
    "    fval = func(x0, *args)\n",
    "    schedule.feval += 1\n",
    "    last_state.cost = fval\n",
    "    if last_state.cost < best_state.cost:\n",
    "        best_state.cost = fval\n",
    "        best_state.x = asarray(x0).copy()\n",
    "    schedule.T = schedule.T0\n",
    "    T.append(schedule.T)\n",
    "    fqueue = [100, 300, 500, 700]\n",
    "    iters = 0\n",
    "    while 1:\n",
    "        for n in xrange(dwell):\n",
    "            current_state.x = schedule.update_guess(last_state.x) \n",
    "            current_state.cost = func(current_state.x, *args)\n",
    "            schedule.feval += 1\n",
    "\n",
    "            dE = current_state.cost - last_state.cost\n",
    "            if schedule.accept_test(dE):\n",
    "                last_state.x = current_state.x.copy()\n",
    "                last_state.cost = current_state.cost\n",
    "                if last_state.cost < best_state.cost:\n",
    "                    best_state.x = last_state.x.copy()\n",
    "                    best_state.cost = last_state.cost\n",
    "        schedule.update_temp()\n",
    "        \n",
    "        X.append(best_state.x)\n",
    "        T.append(schedule.T)\n",
    "        iters += 1\n",
    "        # Stopping conditions\n",
    "        # 0) last saved values of f from each cooling step\n",
    "        #     are all very similar (effectively cooled)\n",
    "        # 1) Tf is set and we are below it\n",
    "        # 2) maxeval is set and we are past it\n",
    "        # 3) maxiter is set and we are past it\n",
    "        # 4) maxaccept is set and we are past it\n",
    "\n",
    "        fqueue.append(squeeze(last_state.cost))\n",
    "        fqueue.pop(0)\n",
    "        af = asarray(fqueue)*1.0\n",
    "        if all(abs((af-af[0])/af[0]) < feps):\n",
    "            retval = 0\n",
    "            if abs(af[-1]-best_state.cost) > feps*10:\n",
    "                retval = 5\n",
    "                if disp:\n",
    "                    print(\"Warning: Cooled to %f at %s but this is not\"\n",
    "                          % (squeeze(last_state.cost),\n",
    "                             str(squeeze(last_state.x)))\n",
    "                          + \" the smallest point found.\")\n",
    "            break\n",
    "        if (Tf is not None) and (schedule.T < Tf):\n",
    "            retval = 1\n",
    "            break\n",
    "        if (maxeval is not None) and (schedule.feval > maxeval):\n",
    "            retval = 2\n",
    "            break\n",
    "        if (iters > maxiter):\n",
    "            if disp:\n",
    "                print(\"Warning: Maximum number of iterations exceeded.\")\n",
    "            retval = 3\n",
    "            break\n",
    "        if (maxaccept is not None) and (schedule.accepted > maxaccept):\n",
    "            retval = 4\n",
    "            break\n",
    "\n",
    "    result = OptimizeResult(x=best_state.x, fun=best_state.cost,\n",
    "                            T=schedule.T, nfev=schedule.feval, nit=iters,\n",
    "                            accept=schedule.accepted, status=retval,\n",
    "                            success=(retval <= 1),\n",
    "                            message={0: 'Points no longer changing',\n",
    "                                     1: 'Cooled to final temperature',\n",
    "                                     2: 'Maximum function evaluations',\n",
    "                                     3: 'Maximum cooling iterations reached',\n",
    "                                     4: 'Maximum accepted query locations reached',\n",
    "                                     5: 'Final point not the minimum amongst '\n",
    "                                        'encountered points'}[retval])\n",
    "    return result, X, T\n"
   ]
  },
  {
   "cell_type": "code",
   "execution_count": 239,
   "metadata": {},
   "outputs": [],
   "source": [
    "func = lambda x: obj_fun.evaluator(x)\n",
    "dfunc = lambda x: -np.sin(np.sqrt(np.abs(x))) - (x**2)*np.cos(np.sqrt(np.abs(x)))*1.0/(2*np.abs(x)**(3.0/2.0))\n",
    "\n",
    "def gradient_descent(f, df, x0, args=(), mu=0.01, n_iter=10000, eps=1e-4):\n",
    "    x_ar = []\n",
    "    x_ar.append(x0)\n",
    "    x = x0\n",
    "    nit = 0\n",
    "    while 1:\n",
    "        nit += 1\n",
    "        x = x - mu*df(x, *args)\n",
    "        x_ar.append(x)\n",
    "        \n",
    "        if nit>= n_iter or np.linalg.norm(x=x,ord=2) <= eps:\n",
    "            break\n",
    "    return x_ar"
   ]
  },
  {
   "cell_type": "code",
   "execution_count": 223,
   "metadata": {},
   "outputs": [],
   "source": [
    "X = gradient_descent(f, df, np.array(obj_fun.generator()))"
   ]
  },
  {
   "cell_type": "code",
   "execution_count": 231,
   "metadata": {},
   "outputs": [
    {
     "data": {
      "text/plain": [
       "(-500.0, 500.0)"
      ]
     },
     "execution_count": 231,
     "metadata": {},
     "output_type": "execute_result"
    }
   ],
   "source": [
    "obj_fun.bounds[0]"
   ]
  },
  {
   "cell_type": "code",
   "execution_count": 235,
   "metadata": {},
   "outputs": [
    {
     "data": {
      "text/plain": [
       "array([-500.        , -479.59183673, -459.18367347, -438.7755102 ,\n",
       "       -418.36734694, -397.95918367, -377.55102041, -357.14285714,\n",
       "       -336.73469388, -316.32653061, -295.91836735, -275.51020408,\n",
       "       -255.10204082, -234.69387755, -214.28571429, -193.87755102,\n",
       "       -173.46938776, -153.06122449, -132.65306122, -112.24489796,\n",
       "        -91.83673469,  -71.42857143,  -51.02040816,  -30.6122449 ,\n",
       "        -10.20408163,   10.20408163,   30.6122449 ,   51.02040816,\n",
       "         71.42857143,   91.83673469,  112.24489796,  132.65306122,\n",
       "        153.06122449,  173.46938776,  193.87755102,  214.28571429,\n",
       "        234.69387755,  255.10204082,  275.51020408,  295.91836735,\n",
       "        316.32653061,  336.73469388,  357.14285714,  377.55102041,\n",
       "        397.95918367,  418.36734694,  438.7755102 ,  459.18367347,\n",
       "        479.59183673,  500.        ])"
      ]
     },
     "execution_count": 235,
     "metadata": {},
     "output_type": "execute_result"
    }
   ],
   "source": []
  },
  {
   "cell_type": "code",
   "execution_count": 249,
   "metadata": {},
   "outputs": [
    {
     "data": {
      "text/plain": [
       "500.0"
      ]
     },
     "execution_count": 249,
     "metadata": {},
     "output_type": "execute_result"
    }
   ],
   "source": [
    "obj_fun.bounds[0][1]"
   ]
  },
  {
   "cell_type": "code",
   "execution_count": 251,
   "metadata": {},
   "outputs": [
    {
     "data": {
      "text/plain": [
       "\"\\nres, X_1, T= anneal(func, x_i, schedule='fast',\\n                        full_output=True, \\n                        maxiter=1000, \\n                        T0 = func(x_i),\\n                        lower=np.array (obj_fun.bounds[0]),\\n                        upper=np.array (obj_fun.bounds[1]), \\n                        dwell=250, disp=True)\\n\\ntraj1, = ax1.plot([], [], 'r', animated=True, label='GD')\\n\\nX_2 = gradient_descent(f, df, np.array(obj_fun.generator()))\\n\\nX_1 = np.array(X_1)\\nX_2 = np.array(X_2)\\n\\ntraj2, = ax1.plot([], [], 'w', animated=True, label='SGD')\\n\\nax1.legend()\\n\\ndef init():\\n    return traj1, traj2\\n\\ndef update(frame):\\n    traj1.set_data(X_1[:frame, 0], X_1[:frame, 1])\\n    traj2.set_data(X_2[:frame, 0], X_2[:frame, 1])\\n    return traj1, traj2\\n\\nf.set_size_inches(12, 5)\\n#f.suptitle(f'2 routers, {nsteps} steps')\\n          \\nFuncAnimation(f, update, frames=range(max(len(X_1),len(X_2))), interval=120,\\n                    init_func=init, blit=True)\""
      ]
     },
     "execution_count": 251,
     "metadata": {},
     "output_type": "execute_result"
    },
    {
     "data": {
      "image/png": "[encoded data removed]",
      "text/plain": [
       "<matplotlib.figure.Figure at 0xf3a8ef0>"
      ]
     },
     "metadata": {},
     "output_type": "display_data"
    }
   ],
   "source": [
    "from matplotlib.animation import FuncAnimation\n",
    "from functools import partial\n",
    "plt.rcParams[\"animation.html\"] = \"html5\"\n",
    "plt.rcParams['animation.ffmpeg_path'] = 'C:\\\\ffmpeg\\\\bin\\\\ffmpeg.exe'\n",
    "\n",
    "obj_fun = gb.Schwefel26()\n",
    "\n",
    "\n",
    "w1 = np.linspace(start=obj_fun.bounds[0][0], \n",
    "                 stop=obj_fun.bounds[0][1],\n",
    "                 num=500)\n",
    "\n",
    "w2 = np.linspace(start=obj_fun.bounds[1][0], \n",
    "                 stop=obj_fun.bounds[1][1], \n",
    "                 num=500)\n",
    "\n",
    "#x = np.random.rand(n)*l\n",
    "p = np.array([ np.array([func(np.array(w1_, w2_)) for w2_ in w2]) for w1_ in w1]) \n",
    "\n",
    "f, ax1 = plt.subplots(1, 1, sharey=True)\n",
    "\n",
    "c1 = ax1.contourf(w1, w2, p, cmap=\"viridis\")\n",
    "plt.colorbar(c1, ax = ax1)\n",
    "ax1.set_title('P')\n",
    "'''\n",
    "res, X_1, T= anneal(func, x_i, schedule='fast',\n",
    "                        full_output=True, \n",
    "                        maxiter=1000, \n",
    "                        T0 = func(x_i),\n",
    "                        lower=np.array (obj_fun.bounds[0]),\n",
    "                        upper=np.array (obj_fun.bounds[1]), \n",
    "                        dwell=250, disp=True)\n",
    "\n",
    "traj1, = ax1.plot([], [], 'r', animated=True, label='GD')\n",
    "\n",
    "X_2 = gradient_descent(f, df, np.array(obj_fun.generator()))\n",
    "\n",
    "X_1 = np.array(X_1)\n",
    "X_2 = np.array(X_2)\n",
    "\n",
    "traj2, = ax1.plot([], [], 'w', animated=True, label='SGD')\n",
    "\n",
    "ax1.legend()\n",
    "\n",
    "def init():\n",
    "    return traj1, traj2\n",
    "\n",
    "def update(frame):\n",
    "    traj1.set_data(X_1[:frame, 0], X_1[:frame, 1])\n",
    "    traj2.set_data(X_2[:frame, 0], X_2[:frame, 1])\n",
    "    return traj1, traj2\n",
    "\n",
    "f.set_size_inches(12, 5)\n",
    "#f.suptitle(f'2 routers, {nsteps} steps')\n",
    "          \n",
    "FuncAnimation(f, update, frames=range(max(len(X_1),len(X_2))), interval=120,\n",
    "                    init_func=init, blit=True)'''"
   ]
  },
  {
   "cell_type": "code",
   "execution_count": 225,
   "metadata": {},
   "outputs": [
    {
     "data": {
      "text/plain": [
       "2"
      ]
     },
     "execution_count": 225,
     "metadata": {},
     "output_type": "execute_result"
    }
   ],
   "source": [
    "max(1,2)"
   ]
  },
  {
   "cell_type": "code",
   "execution_count": 117,
   "metadata": {},
   "outputs": [
    {
     "data": {
      "text/plain": [
       "[0.0, 0.0]"
      ]
     },
     "execution_count": 117,
     "metadata": {},
     "output_type": "execute_result"
    }
   ],
   "source": [
    "T"
   ]
  }
 ],
 "metadata": {
  "kernelspec": {
   "display_name": "Python 2",
   "language": "python",
   "name": "python2"
  },
  "language_info": {
   "codemirror_mode": {
    "name": "ipython",
    "version": 2
   },
   "file_extension": ".py",
   "mimetype": "text/x-python",
   "name": "python",
   "nbconvert_exporter": "python",
   "pygments_lexer": "ipython2",
   "version": "2.7.14"
  }
 },
 "nbformat": 4,
 "nbformat_minor": 2
}
