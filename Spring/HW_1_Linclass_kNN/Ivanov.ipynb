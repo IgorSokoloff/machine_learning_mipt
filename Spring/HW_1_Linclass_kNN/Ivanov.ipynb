{
 "cells": [
  {
   "cell_type": "markdown",
   "metadata": {
    "colab_type": "text",
    "id": "v5Fj-ahf25os"
   },
   "source": [
    "# Домашнее задание №1: Классификация. \n",
    "# Логистическая регрессия и kNN.\n",
    "\n",
    "### Иванов Александр Владимирович, ФУПМ, группа 573б (avi2011class@yandex.ru)"
   ]
  },
  {
   "cell_type": "markdown",
   "metadata": {},
   "source": [
    "*While the machines are being fixed.*"
   ]
  },
  {
   "cell_type": "markdown",
   "metadata": {},
   "source": [
    "Формат сдачи будет объявлен позднее. Либо это будет проверяющая система, либо telegram-бот. "
   ]
  },
  {
   "cell_type": "markdown",
   "metadata": {
    "colab_type": "text",
    "id": "I6Hq7E5o25ou"
   },
   "source": [
    "<span style=\"color: red; font-size: 14pt\">Дедлайны: \n",
    "* ФИВТ, третий курс - 4 марта 23:59\n",
    "* Открытый курс - 7 марта, 23:59\n",
    "</span>"
   ]
  },
  {
   "cell_type": "markdown",
   "metadata": {
    "colab_type": "text",
    "id": "qZX1Urv425ov"
   },
   "source": [
    "### Часть 1. Небольшой numpy-разогрев. (10%)"
   ]
  },
  {
   "cell_type": "code",
   "execution_count": 1,
   "metadata": {
    "colab": {
     "autoexec": {
      "startup": false,
      "wait_interval": 0
     }
    },
    "colab_type": "code",
    "id": "ABwrGwvF25ow"
   },
   "outputs": [],
   "source": [
    "import numpy as np\n",
    "import pandas as pd\n",
    "\n",
    "import warnings\n",
    "warnings.filterwarnings('ignore')"
   ]
  },
  {
   "cell_type": "code",
   "execution_count": 3,
   "metadata": {
    "colab": {
     "autoexec": {
      "startup": false,
      "wait_interval": 0
     }
    },
    "colab_type": "code",
    "id": "GYgIRlqf25o0"
   },
   "outputs": [
    {
     "data": {
      "text/plain": [
       "array([[57, 64, 26, 61, 17,  9, 50, 92, 77, 80],\n",
       "       [55, 62, 14, 39, 24, 57, 80, 33, 89, 52],\n",
       "       [58, 27, 62, 92, 57, 90, 36,  7, 61, 82],\n",
       "       [38, 60, 23, 55,  2, 91, 22, 50, 70, 19],\n",
       "       [95, 68, 11,  5, 62, 48,  2, 45, 28, 59],\n",
       "       [42, 54,  3, 83, 38, 30, 22, 52, 56,  9],\n",
       "       [48, 84, 48, 39, 84, 36, 26, 65, 28, 41],\n",
       "       [33, 85, 49, 31, 61, 86,  5, 89, 24, 24],\n",
       "       [94,  8, 10, 56, 64, 60, 13, 26, 39, 18],\n",
       "       [56,  1, 26, 74, 54, 51, 76, 64, 94, 86]])"
      ]
     },
     "execution_count": 3,
     "metadata": {},
     "output_type": "execute_result"
    }
   ],
   "source": [
    "# Создайте случайную матрицу A размерами 10 на 10 из целых чисел от 0 до 100\n",
    "# hint: np.random.randint\n",
    "\n",
    "# Ваш код здесь\n",
    "A = np.random.randint(0, 100, (10, 10))\n",
    "A"
   ]
  },
  {
   "cell_type": "code",
   "execution_count": 3,
   "metadata": {
    "colab": {
     "autoexec": {
      "startup": false,
      "wait_interval": 0
     }
    },
    "colab_type": "code",
    "id": "7aB62Lzk25o2"
   },
   "outputs": [
    {
     "data": {
      "text/plain": [
       "array([52.6, 48.9, 62.9, 68.6, 48.4, 48.9, 42.4, 52.5, 46.5, 37.3])"
      ]
     },
     "execution_count": 3,
     "metadata": {},
     "output_type": "execute_result"
    }
   ],
   "source": [
    "# Посчитайте средние значения в матрице по столбцам\n",
    "A.mean(axis=0)\n",
    "# Ваш код здесь"
   ]
  },
  {
   "cell_type": "code",
   "execution_count": 4,
   "metadata": {
    "colab": {
     "autoexec": {
      "startup": false,
      "wait_interval": 0
     }
    },
    "colab_type": "code",
    "id": "MTLnNqV425o5"
   },
   "outputs": [
    {
     "data": {
      "text/plain": [
       "array([[56, 85,  9, 87, 41, 37, 89, 21, 95,  6],\n",
       "       [72, 27, 11, 83, 59, 29, 89, 28, 52, 39],\n",
       "       [73, 76, 83, 55, 72, 16, 79, 69, 86, 20],\n",
       "       [46, 46, 72, 68, 82, 85, 78, 50, 89, 70],\n",
       "       [50, 75, 35,  1, 70, 34, 76, 88, 35, 20],\n",
       "       [ 7, 56, 34, 50, 24, 81,  3, 97, 46, 91],\n",
       "       [74, 23, 55, 78, 20, 36,  5, 40, 90,  3],\n",
       "       [ 3, 99, 67, 40, 94, 73, 11, 20, 37, 81],\n",
       "       [42, 70,  6, 31, 43, 49,  5, 98, 54, 67],\n",
       "       [62,  1, 52,  9, 52, 16,  3, 31, 55, 92]])"
      ]
     },
     "execution_count": 4,
     "metadata": {},
     "output_type": "execute_result"
    }
   ],
   "source": [
    "# Транспонируйте матрицу A\n",
    "A.T\n",
    "# Ваш код здесь"
   ]
  },
  {
   "cell_type": "code",
   "execution_count": 5,
   "metadata": {
    "colab": {
     "autoexec": {
      "startup": false,
      "wait_interval": 0
     }
    },
    "colab_type": "code",
    "id": "WgDUhrYV25o8"
   },
   "outputs": [
    {
     "data": {
      "text/plain": [
       "array([[3136, 6120,  657, 4002, 2050,  259, 6586,   63, 3990,  372],\n",
       "       [6120,  729,  836, 3818, 4425, 1624, 2047, 2772, 3640,   39],\n",
       "       [ 657,  836, 6889, 3960, 2520,  544, 4345, 4623,  516, 1040],\n",
       "       [4002, 3818, 3960, 4624,   82, 4250, 6084, 2000, 2759,  630],\n",
       "       [2050, 4425, 2520,   82, 4900,  816, 1520, 8272, 1505, 1040],\n",
       "       [ 259, 1624,  544, 4250,  816, 6561,  108, 7081, 2254, 1456],\n",
       "       [6586, 2047, 4345, 6084, 1520,  108,   25,  440,  450,    9],\n",
       "       [  63, 2772, 4623, 2000, 8272, 7081,  440,  400, 3626, 2511],\n",
       "       [3990, 3640,  516, 2759, 1505, 2254,  450, 3626, 2916, 3685],\n",
       "       [ 372,   39, 1040,  630, 1040, 1456,    9, 2511, 3685, 8464]])"
      ]
     },
     "execution_count": 5,
     "metadata": {},
     "output_type": "execute_result"
    }
   ],
   "source": [
    "# Перемножьте поэлементно матрицу A и транспонированную матрицу A \n",
    "A * A.T\n",
    "# Ваш код здесь"
   ]
  },
  {
   "cell_type": "code",
   "execution_count": 6,
   "metadata": {
    "colab": {
     "autoexec": {
      "startup": false,
      "wait_interval": 0
     }
    },
    "colab_type": "code",
    "id": "xwgLyFDD25o9"
   },
   "outputs": [
    {
     "data": {
      "text/plain": [
       "matrix([[29407, 23511, 20402, 26143, 26032, 17438, 25367, 24666, 33957,\n",
       "         18444],\n",
       "        [23511, 39838, 23581, 27752, 33744, 27641, 26985, 31908, 34878,\n",
       "         25769],\n",
       "        [20402, 23581, 24910, 20516, 26524, 20041, 17913, 21942, 28375,\n",
       "         21755],\n",
       "        [26143, 27752, 20516, 33334, 26391, 23761, 26017, 23521, 36367,\n",
       "         20568],\n",
       "        [26032, 33744, 26524, 26391, 36335, 26195, 27881, 28575, 34467,\n",
       "         28650],\n",
       "        [17438, 27641, 20041, 23761, 26195, 26690, 17871, 25990, 28347,\n",
       "         26450],\n",
       "        [25367, 26985, 17913, 26017, 27881, 17871, 34132, 21694, 30909,\n",
       "         14355],\n",
       "        [24666, 31908, 21942, 23521, 28575, 25990, 21694, 38204, 32714,\n",
       "         27843],\n",
       "        [33957, 34878, 28375, 36367, 34467, 28347, 30909, 32714, 45797,\n",
       "         27379],\n",
       "        [18444, 25769, 21755, 20568, 28650, 26450, 14355, 27843, 27379,\n",
       "         35061]])"
      ]
     },
     "execution_count": 6,
     "metadata": {},
     "output_type": "execute_result"
    }
   ],
   "source": [
    "# Посчитайте dot product (результат матричного умножения) матрицы A на саму себя и запишите в матрицу B\n",
    "# https://en.wikipedia.org/wiki/Dot_product\n",
    "np.matrix(A) * np.matrix(A).T\n",
    "# Ваш код здесь"
   ]
  },
  {
   "cell_type": "markdown",
   "metadata": {
    "colab_type": "text",
    "id": "9S8tqIMG25pb"
   },
   "source": [
    "### Часть 2. Логистическая регрессия и kNN."
   ]
  },
  {
   "cell_type": "markdown",
   "metadata": {
    "colab_type": "text",
    "id": "T2docs4225pb"
   },
   "source": [
    "Будем работать с подвыборкой из [данных о типе лесного покрытия из репозитория UCI](http://archive.ics.uci.edu/ml/datasets/Covertype). Доступно 7 различных классов. Каждый объект описывается 54 признаками, 40 из которых являются бинарными. Описание данных доступно по ссылке, а так же в файле `covtype.info.txt`."
   ]
  },
  {
   "cell_type": "code",
   "execution_count": 2,
   "metadata": {
    "colab": {
     "autoexec": {
      "startup": false,
      "wait_interval": 0
     }
    },
    "colab_type": "code",
    "id": "rvPrVRvK25pc"
   },
   "outputs": [],
   "source": [
    "all_data = pd.read_csv('forest_dataset.csv')"
   ]
  },
  {
   "cell_type": "markdown",
   "metadata": {
    "colab_type": "text",
    "id": "DrX0W5si25pe"
   },
   "source": [
    "Выделите 20% данных в `delayed_data` в качестве выборки, на которой будет производиться финальное сравнение моделей, в `all_data` поместите оставшиеся 80%."
   ]
  },
  {
   "cell_type": "code",
   "execution_count": 4,
   "metadata": {
    "colab": {
     "autoexec": {
      "startup": false,
      "wait_interval": 0
     }
    },
    "colab_type": "code",
    "id": "Deu3A-yc25pf"
   },
   "outputs": [],
   "source": [
    "import sklearn.model_selection\n",
    "all_data, delayed_data = sklearn.model_selection.train_test_split(all_data, test_size=0.2)\n",
    "# Ваш код здесь"
   ]
  },
  {
   "cell_type": "markdown",
   "metadata": {
    "colab_type": "text",
    "id": "itCWxHEY25pg"
   },
   "source": [
    "Выделим значения метки класса в переменную `labels`, признаковые описания в переменную `feature_matrix`. Так как данные числовые и не имеют пропусков, переведем их в `numpy`-формат с помощью метода `.values`."
   ]
  },
  {
   "cell_type": "code",
   "execution_count": 5,
   "metadata": {
    "colab": {
     "autoexec": {
      "startup": false,
      "wait_interval": 0
     }
    },
    "colab_type": "code",
    "id": "f_YIUOuV25ph"
   },
   "outputs": [],
   "source": [
    "labels = all_data[all_data.columns[-1]].values\n",
    "feature_matrix = all_data[all_data.columns[:-1]].values"
   ]
  },
  {
   "cell_type": "markdown",
   "metadata": {
    "colab_type": "text",
    "id": "dKCiU0wz25pj"
   },
   "source": [
    "#### 2.1 Двуклассовая классификация (10%)"
   ]
  },
  {
   "cell_type": "markdown",
   "metadata": {
    "colab_type": "text",
    "id": "LYDttiOJ25pj"
   },
   "source": [
    "Для начала будем работать только с двумя типами лесного покрытия. Обучите линейный классификатор для разделения двух классов. Данные разделите на train и test с помощью `train_test_split`."
   ]
  },
  {
   "cell_type": "code",
   "execution_count": 6,
   "metadata": {
    "colab": {
     "autoexec": {
      "startup": false,
      "wait_interval": 0
     }
    },
    "colab_type": "code",
    "id": "Q030jzyY25pl"
   },
   "outputs": [],
   "source": [
    "from sklearn.model_selection import train_test_split\n",
    "\n",
    "from sklearn.linear_model import LogisticRegression\n",
    "from sklearn.metrics import f1_score, accuracy_score"
   ]
  },
  {
   "cell_type": "code",
   "execution_count": 7,
   "metadata": {
    "colab": {
     "autoexec": {
      "startup": false,
      "wait_interval": 0
     }
    },
    "colab_type": "code",
    "id": "taWX6ME925pn"
   },
   "outputs": [],
   "source": [
    "two_class_labels_indices = (labels == 1) + (labels == 2)\n",
    "\n",
    "two_class_feature_matrix = feature_matrix[two_class_labels_indices]\n",
    "two_class_labels = labels[two_class_labels_indices]"
   ]
  },
  {
   "cell_type": "code",
   "execution_count": 8,
   "metadata": {
    "colab": {
     "autoexec": {
      "startup": false,
      "wait_interval": 0
     }
    },
    "colab_type": "code",
    "id": "zoQPXD_k25po"
   },
   "outputs": [],
   "source": [
    "train_feature_matrix, test_feature_matrix, train_labels, test_labels = \\\n",
    "    sklearn.model_selection.train_test_split(two_class_feature_matrix, two_class_labels)"
   ]
  },
  {
   "cell_type": "markdown",
   "metadata": {
    "colab_type": "text",
    "id": "A8iDa9Je25pq"
   },
   "source": [
    "Обучите логистическую регрессию. Оцените качество классификации на отложенной выборке с помощью `accuracy` и `f1_score` ([Wikipedia](https://en.wikipedia.org/wiki/F1_score))."
   ]
  },
  {
   "cell_type": "code",
   "execution_count": 11,
   "metadata": {
    "colab": {
     "autoexec": {
      "startup": false,
      "wait_interval": 0
     }
    },
    "colab_type": "code",
    "id": "VF2CeR7W25pt"
   },
   "outputs": [
    {
     "name": "stdout",
     "output_type": "stream",
     "text": [
      "Logistic regression: accuracy=0.779206 f1_score=0.741096\n",
      "Logistic regression with CV select C: accuracy=0.770444 f1_score=0.730268\n"
     ]
    }
   ],
   "source": [
    "import sklearn.metrics\n",
    "import sklearn.linear_model\n",
    "\n",
    "lr_clf = sklearn.linear_model.LogisticRegression(solver='lbfgs', max_iter=1000)\n",
    "lr_clf.fit(train_feature_matrix, train_labels)\n",
    "\n",
    "lr_clf_predicted = lr_clf.predict(test_feature_matrix)\n",
    "accuracy_score = sklearn.metrics.accuracy_score(lr_clf_predicted, test_labels)\n",
    "f1_score = sklearn.metrics.f1_score(lr_clf_predicted, test_labels)\n",
    "\n",
    "print(\"Logistic regression: accuracy={:06f} f1_score={:06f}\".format(accuracy_score, f1_score))\n",
    "\n",
    "lr_clf = sklearn.linear_model.LogisticRegressionCV(solver='lbfgs', max_iter=1000)\n",
    "lr_clf.fit(train_feature_matrix, train_labels)\n",
    "\n",
    "lr_clf_predicted = lr_clf.predict(test_feature_matrix)\n",
    "accuracy_score = sklearn.metrics.accuracy_score(lr_clf_predicted, test_labels)\n",
    "f1_score = sklearn.metrics.f1_score(lr_clf_predicted, test_labels)\n",
    "\n",
    "print(\"Logistic regression with CV select C: accuracy={:06f} f1_score={:06f}\".format(accuracy_score, f1_score))\n",
    "# Ваш код здесь"
   ]
  },
  {
   "cell_type": "markdown",
   "metadata": {
    "colab_type": "text",
    "id": "9MKHZ2JC25pv"
   },
   "source": [
    "#### 2.2 Многоклассовая классификация: логистическая регрессия (40%)"
   ]
  },
  {
   "cell_type": "markdown",
   "metadata": {
    "colab_type": "text",
    "id": "P1mWe4kJ25pv"
   },
   "source": [
    "**Комментарий:**\n",
    "\n",
    "*Логистическая регрессия позволяет решать и задачу многоклассовой классификации. Класс ``LogisticRegression`` позвляет это делать двумя способами:* \n",
    "- *1. Стандартный One vs Rest (т.е. каждый класс отделяется от всех других). Параметр `multi_class='ovr'`.*\n",
    "- *2. Используюя кросс-энтропию (оценивается сразу вектор вероятностей принадлежности классам). Параметр `multi_class='multinomial'`.*\n",
    "\n",
    "*По умолчанию будем использовать второй способ.*\n"
   ]
  },
  {
   "cell_type": "markdown",
   "metadata": {
    "colab_type": "text",
    "id": "BGn7U05I25pw"
   },
   "source": [
    "Теперь будем работать со всеми 7 типами покрытия (данные уже находятся в переменных `feature_matrix` и `labels`, если Вы их не переопределили). Разделите выборку на обучающую и тестовую с помощью метода `train_test_split`, используйте значения параметров `test_size=0.2`, `random_state=42`. Обучите логистическую регрессию  на данном датасете."
   ]
  },
  {
   "cell_type": "code",
   "execution_count": 14,
   "metadata": {
    "colab": {
     "autoexec": {
      "startup": false,
      "wait_interval": 0
     }
    },
    "colab_type": "code",
    "id": "xqzEKcdD25px"
   },
   "outputs": [
    {
     "name": "stdout",
     "output_type": "stream",
     "text": [
      "Logistic regression: accuracy=0.643750\n",
      "Logistic regression with CV select: accuracy=0.684375\n"
     ]
    }
   ],
   "source": [
    "train_feature_matrix, test_feature_matrix, train_labels, test_labels = \\\n",
    "    sklearn.model_selection.train_test_split(feature_matrix, labels, test_size=0.2, random_state=42)\n",
    "\n",
    "lr_clf = sklearn.linear_model.LogisticRegression(solver='lbfgs', max_iter=100, multi_class='multinomial', n_jobs=7)\n",
    "lr_clf.fit(train_feature_matrix, train_labels)\n",
    "\n",
    "lr_clf_predicted = lr_clf.predict(test_feature_matrix)\n",
    "accuracy_score = sklearn.metrics.accuracy_score(lr_clf_predicted, test_labels)\n",
    "\n",
    "print(\"Logistic regression: accuracy={:06f}\".format(accuracy_score))\n",
    "\n",
    "lr_clf = sklearn.linear_model.LogisticRegressionCV(solver='lbfgs', max_iter=100, multi_class='multinomial', n_jobs=7)\n",
    "lr_clf.fit(train_feature_matrix, train_labels)\n",
    "\n",
    "lr_clf_predicted = lr_clf.predict(test_feature_matrix)\n",
    "accuracy_score = sklearn.metrics.accuracy_score(lr_clf_predicted, test_labels)\n",
    "\n",
    "print(\"Logistic regression with CV select: accuracy={:06f}\".format(accuracy_score))\n",
    "# Ваш код здесь"
   ]
  },
  {
   "cell_type": "markdown",
   "metadata": {
    "colab_type": "text",
    "id": "5QqTntPq25p0"
   },
   "source": [
    "С помощью 5-кратной кросс-валидации (`GridSearchCV`) подберите оптимальное значение параметров `С` и `penalty`. Для параметра `C` используйте набор значений `np.linspace(0.01, 1, 10)`, а для `penalty` - `['l1', 'l2']`. Критерий качества `scoring = 'accuracy'`."
   ]
  },
  {
   "cell_type": "code",
   "execution_count": 15,
   "metadata": {
    "colab": {
     "autoexec": {
      "startup": false,
      "wait_interval": 0
     }
    },
    "colab_type": "code",
    "id": "j-M-porJ25p0"
   },
   "outputs": [
    {
     "data": {
      "text/plain": [
       "{'C': 0.12, 'penalty': 'l1'}"
      ]
     },
     "execution_count": 15,
     "metadata": {},
     "output_type": "execute_result"
    }
   ],
   "source": [
    "estimator = sklearn.linear_model.LogisticRegression(multi_class='multinomial', solver='saga')\n",
    "result_CV = sklearn.model_selection.GridSearchCV(estimator, \n",
    "                                    param_grid={'C' : np.linspace(0.01, 1, 10), 'penalty' : ['l1', 'l2']},\n",
    "                                    scoring='accuracy',\n",
    "                                    n_jobs=-1,\n",
    "                                    cv=5)\n",
    "result_CV.fit(train_feature_matrix, train_labels)\n",
    "result_CV.best_params_"
   ]
  },
  {
   "cell_type": "markdown",
   "metadata": {
    "colab_type": "text",
    "id": "rzsRzpiv25p2"
   },
   "source": [
    "Постройте графики средних значений критерия качества `accuracy` для типов регуляризации `l1` и `l2` в зависимости от коэффициента регуляризации `C`."
   ]
  },
  {
   "cell_type": "code",
   "execution_count": 14,
   "metadata": {},
   "outputs": [
    {
     "data": {
      "text/plain": [
       "[(0, 0.01), (1, 0.2575), (2, 0.505), (3, 0.7525), (4, 1.0)]"
      ]
     },
     "execution_count": 14,
     "metadata": {},
     "output_type": "execute_result"
    }
   ],
   "source": [
    "N = 5\n",
    "list (enumerate(np.linspace(0.01, 1, N)))\n"
   ]
  },
  {
   "cell_type": "code",
   "execution_count": 17,
   "metadata": {
    "colab": {
     "autoexec": {
      "startup": false,
      "wait_interval": 0
     }
    },
    "colab_type": "code",
    "id": "nYOrtHpy25p3"
   },
   "outputs": [
    {
     "name": "stderr",
     "output_type": "stream",
     "text": [
      "100%|██████████████████████████████████████████████████████████████████████████████████| 10/10 [00:09<00:00,  1.13it/s]\n"
     ]
    }
   ],
   "source": [
    "import matplotlib.pyplot as plt\n",
    "import seaborn as sns\n",
    "import itertools\n",
    "import tqdm\n",
    "\n",
    "N = 5\n",
    "\n",
    "result = np.zeros((N, 2))\n",
    "\n",
    "kfold = sklearn.model_selection.KFold(5, shuffle=True)\n",
    "\n",
    "for C_pair, penalty_pair in tqdm.tqdm(itertools.product(enumerate(np.linspace(0.01, 1, N)), enumerate(['l1', 'l2'])), total=N*2):\n",
    "     result[C_pair[0]][penalty_pair[0]] = sklearn.model_selection.cross_val_score(\n",
    "         sklearn.linear_model.LogisticRegression(solver='saga', multi_class='multinomial', penalty=penalty_pair[1], C=C_pair[1]),\n",
    "         train_feature_matrix,\n",
    "         train_labels,\n",
    "         scoring='accuracy',\n",
    "         cv=kfold,\n",
    "         n_jobs=-1\n",
    "     ).mean()\n",
    "    "
   ]
  },
  {
   "cell_type": "code",
   "execution_count": 18,
   "metadata": {},
   "outputs": [
    {
     "data": {
      "text/plain": [
       "array([[0.72035054, 0.72035054],\n",
       "       [0.72190847, 0.72190847],\n",
       "       [0.7211295 , 0.7211295 ],\n",
       "       [0.72268744, 0.72268744],\n",
       "       [0.72346641, 0.72346641]])"
      ]
     },
     "execution_count": 18,
     "metadata": {},
     "output_type": "execute_result"
    }
   ],
   "source": [
    "result"
   ]
  },
  {
   "cell_type": "markdown",
   "metadata": {
    "colab_type": "text",
    "id": "IQraNf0M25p5"
   },
   "source": [
    "Проанализируйте полученные графики. Чему равны найденные оптимальные значения параметров `C` и `penalty`?"
   ]
  },
  {
   "cell_type": "code",
   "execution_count": 17,
   "metadata": {
    "colab": {
     "autoexec": {
      "startup": false,
      "wait_interval": 0
     }
    },
    "colab_type": "code",
    "id": "BkT1RWJj25p7"
   },
   "outputs": [
    {
     "data": {
      "text/plain": [
       "<matplotlib.legend.Legend at 0x7f92fd60e358>"
      ]
     },
     "execution_count": 17,
     "metadata": {},
     "output_type": "execute_result"
    },
    {
     "data": {
      "image/png": "[encoded data removed]",
      "text/plain": [
       "<Figure size 720x576 with 1 Axes>"
      ]
     },
     "metadata": {
      "needs_background": "light"
     },
     "output_type": "display_data"
    }
   ],
   "source": [
    "fig = plt.figure(figsize=(10, 8))\n",
    "ax = fig.add_subplot(111)\n",
    "ax.grid()\n",
    "\n",
    "ax.plot(np.linspace(0.01, 1, N), result[:, 0], label='l1 loss', c='red')\n",
    "ax.plot(np.linspace(0.01, 1, N), result[:, 1], label='l2 loss', c='green')\n",
    "\n",
    "ax.set_xlabel('C')\n",
    "ax.set_ylabel('Mean accuracy on CV')\n",
    "\n",
    "ax.legend()"
   ]
  },
  {
   "cell_type": "markdown",
   "metadata": {
    "colab_type": "text",
    "id": "uIX7uVYk25p9"
   },
   "source": [
    "Используя найденные оптимальные значения `C` и `penalty`, обучите логистическую регрессию на обучающей выборке (train) и вычислите вероятности принадлежности к классам для тестовой (test)  выборки (`best_lr_clf.predict_proba`)."
   ]
  },
  {
   "cell_type": "code",
   "execution_count": 18,
   "metadata": {
    "colab": {
     "autoexec": {
      "startup": false,
      "wait_interval": 0
     }
    },
    "colab_type": "code",
    "id": "1rDNazlC25p9"
   },
   "outputs": [
    {
     "name": "stderr",
     "output_type": "stream",
     "text": [
      "/usr/local/lib/python3.5/dist-packages/sklearn/linear_model/sag.py:334: ConvergenceWarning: The max_iter was reached which means the coef_ did not converge\n",
      "  \"the coef_ did not converge\", ConvergenceWarning)\n"
     ]
    }
   ],
   "source": [
    "best_lr_clf = LogisticRegression(solver='saga', multi_class='multinomial', **result_CV.best_params_, max_iter=1000)\n",
    "best_lr_clf.fit(train_feature_matrix, train_labels)\n",
    "predicted = best_lr_clf.predict_proba(test_feature_matrix)\n",
    "# Ваш код здесь"
   ]
  },
  {
   "cell_type": "markdown",
   "metadata": {
    "colab_type": "text",
    "id": "Ck7T2dGQ25p_"
   },
   "source": [
    "Для полученной матрицы вычислите усредненные по всем объектам из тестовой выборки значения вероятностей принадлежности к классам. Сравните ее оценкой вероятности принадлежности к классу на основе частот меток классов в обучающей выборке."
   ]
  },
  {
   "cell_type": "code",
   "execution_count": 19,
   "metadata": {
    "colab": {
     "autoexec": {
      "startup": false,
      "wait_interval": 0
     }
    },
    "colab_type": "code",
    "id": "JOf0BNix25qA"
   },
   "outputs": [
    {
     "name": "stdout",
     "output_type": "stream",
     "text": [
      "predicted_proba_mean:\n",
      " [0.36518451 0.48876381 0.06070765 0.00468927 0.01689912 0.02916778\n",
      " 0.03458787]\n",
      "real_proba_mean: \n",
      " [0.37203125 0.4859375  0.05921875 0.00484375 0.0165625  0.0296875\n",
      " 0.03171875]\n"
     ]
    }
   ],
   "source": [
    "print('predicted_proba_mean:\\n', predicted.mean(axis=0))\n",
    "\n",
    "tmp = np.array([(train_labels == (i + 1)).sum() for i in range(7)])\n",
    "print('real_proba_mean: \\n', tmp / len(train_labels))\n",
    "\n",
    "# числа близки"
   ]
  },
  {
   "cell_type": "markdown",
   "metadata": {
    "colab_type": "text",
    "id": "VYogShkD25qD"
   },
   "source": [
    "#### 2.3 Многоклассовая классификация: kNN (30%)."
   ]
  },
  {
   "cell_type": "markdown",
   "metadata": {
    "colab_type": "text",
    "id": "BHVNCaJ325qD"
   },
   "source": [
    "Вспомним первое занятие. Обучите на том же датасете `KNeighborsClassifier` из `sklearn`."
   ]
  },
  {
   "cell_type": "code",
   "execution_count": 20,
   "metadata": {
    "colab": {
     "autoexec": {
      "startup": false,
      "wait_interval": 0
     }
    },
    "colab_type": "code",
    "id": "o4CMnnOY25qD"
   },
   "outputs": [],
   "source": [
    "from sklearn.neighbors import KNeighborsClassifier\n",
    "import sklearn.pipeline"
   ]
  },
  {
   "cell_type": "markdown",
   "metadata": {
    "colab_type": "text",
    "id": "Yl_foM3u25qF"
   },
   "source": [
    "Попробуйте использовать различные стратегии вычисления весов: `[‘uniform’, ‘distance’]`. Выберите одно из них самостоятельно. Чем обоснован Ваш выбор?"
   ]
  },
  {
   "cell_type": "markdown",
   "metadata": {
    "colab_type": "text",
    "id": "8WzoRJZd25qF"
   },
   "source": [
    "Переберите по сетке от `1` до `10` параметр числа соседей. Покажите на графике, как менялись значения критерия качества `accuracy` при изменении числа соседей."
   ]
  },
  {
   "cell_type": "code",
   "execution_count": 21,
   "metadata": {
    "colab": {
     "autoexec": {
      "startup": false,
      "wait_interval": 0
     }
    },
    "colab_type": "code",
    "id": "4lMSy-6f25qG"
   },
   "outputs": [
    {
     "name": "stderr",
     "output_type": "stream",
     "text": [
      "100%|██████████| 28/28 [00:28<00:00,  1.01s/it]\n"
     ]
    }
   ],
   "source": [
    "N = 15\n",
    "\n",
    "result = np.zeros((N, 2))\n",
    "\n",
    "kfold = sklearn.model_selection.KFold(5, shuffle=True)\n",
    "\n",
    "for N_pair, W_pair in tqdm.tqdm(itertools.product(enumerate(range(1, N)), enumerate(['uniform', 'distance'])), total=N*2-2):\n",
    "     result[N_pair[0]][W_pair[0]] = sklearn.model_selection.cross_val_score(\n",
    "         sklearn.pipeline.make_pipeline(sklearn.preprocessing.StandardScaler(), \n",
    "                                        sklearn.neighbors.KNeighborsClassifier(n_neighbors=N_pair[1], weights=W_pair[1])),\n",
    "         train_feature_matrix,\n",
    "         train_labels,\n",
    "         scoring='accuracy',\n",
    "         cv=kfold,\n",
    "         n_jobs=-1\n",
    "     ).mean()"
   ]
  },
  {
   "cell_type": "code",
   "execution_count": 22,
   "metadata": {},
   "outputs": [
    {
     "data": {
      "text/plain": [
       "<matplotlib.legend.Legend at 0x7f92fc5a6eb8>"
      ]
     },
     "execution_count": 22,
     "metadata": {},
     "output_type": "execute_result"
    },
    {
     "data": {
      "image/png": "[encoded data removed]",
      "text/plain": [
       "<Figure size 720x576 with 1 Axes>"
      ]
     },
     "metadata": {
      "needs_background": "light"
     },
     "output_type": "display_data"
    }
   ],
   "source": [
    "fig = plt.figure(figsize=(10, 8))\n",
    "ax = fig.add_subplot(111)\n",
    "ax.grid()\n",
    "\n",
    "ax.plot(range(1, N), result[:-1, 0], label='uniform weight strategy', c='red')\n",
    "ax.plot(range(1, N), result[:-1, 1], label='distance weight strategy', c='green')\n",
    "\n",
    "ax.set_xlabel('N neighbors')\n",
    "ax.set_ylabel('Mean accuracy on CV')\n",
    "\n",
    "ax.legend()"
   ]
  },
  {
   "cell_type": "markdown",
   "metadata": {
    "colab_type": "text",
    "id": "aBmiDbvV25qI"
   },
   "source": [
    "Используя найденное оптимальное число соседей, вычислите вероятности принадлежности к классам для тестовой выборки (`.predict_proba`)."
   ]
  },
  {
   "cell_type": "code",
   "execution_count": 23,
   "metadata": {
    "colab": {
     "autoexec": {
      "startup": false,
      "wait_interval": 0
     }
    },
    "colab_type": "code",
    "id": "ig_vS8O925qI"
   },
   "outputs": [
    {
     "name": "stdout",
     "output_type": "stream",
     "text": [
      "predicted_proba_mean:\n",
      " [0.37071429 0.49357143 0.06366071 0.00535714 0.01794643 0.02375\n",
      " 0.025     ]\n",
      "real_proba_mean: \n",
      " [0.37203125 0.4859375  0.05921875 0.00484375 0.0165625  0.0296875\n",
      " 0.03171875]\n"
     ]
    }
   ],
   "source": [
    "best = sklearn.neighbors.KNeighborsClassifier(n_neighbors=7, weights='uniform')\n",
    "best.fit(train_feature_matrix, train_labels)\n",
    "predicted = best.predict_proba(test_feature_matrix)\n",
    "\n",
    "print('predicted_proba_mean:\\n', predicted.mean(axis=0))\n",
    "\n",
    "tmp = np.array([(train_labels == (i + 1)).sum() for i in range(7)])\n",
    "print('real_proba_mean: \\n', tmp / len(train_labels))\n",
    "\n",
    "# числа близки"
   ]
  },
  {
   "cell_type": "markdown",
   "metadata": {
    "colab_type": "text",
    "id": "p41xvYTU25qK"
   },
   "source": [
    "#### 2.4 Сравнение результатов логистической регрессии и kNN (10%).\n",
    "\n",
    "В реальной жизни новые данные становятся доступны с течением времени. Сравните качество Вашей лучшей модели логистической регресии и лучшего kNN  на отложенной выборке `delayed_data`. Какая из моделей показала лучший результат?"
   ]
  },
  {
   "cell_type": "code",
   "execution_count": 25,
   "metadata": {
    "colab": {
     "autoexec": {
      "startup": false,
      "wait_interval": 0
     }
    },
    "colab_type": "code",
    "id": "xJFKTJx425qL"
   },
   "outputs": [
    {
     "name": "stderr",
     "output_type": "stream",
     "text": [
      "/usr/local/lib/python3.5/dist-packages/sklearn/utils/validation.py:595: DataConversionWarning: Data with input dtype int64 was converted to float64 by StandardScaler.\n",
      "  warnings.warn(msg, DataConversionWarning)\n",
      "/usr/local/lib/python3.5/dist-packages/sklearn/utils/validation.py:595: DataConversionWarning: Data with input dtype int64 was converted to float64 by StandardScaler.\n",
      "  warnings.warn(msg, DataConversionWarning)\n",
      "/usr/local/lib/python3.5/dist-packages/sklearn/pipeline.py:331: DataConversionWarning: Data with input dtype int64 were all converted to float64 by StandardScaler.\n",
      "  Xt = transform.transform(Xt)\n"
     ]
    },
    {
     "name": "stdout",
     "output_type": "stream",
     "text": [
      "KNN: 0.7055\n",
      "LOGIT: 0.638\n"
     ]
    },
    {
     "name": "stderr",
     "output_type": "stream",
     "text": [
      "/usr/local/lib/python3.5/dist-packages/sklearn/linear_model/sag.py:334: ConvergenceWarning: The max_iter was reached which means the coef_ did not converge\n",
      "  \"the coef_ did not converge\", ConvergenceWarning)\n"
     ]
    }
   ],
   "source": [
    "best_knn = sklearn.pipeline.make_pipeline(sklearn.preprocessing.StandardScaler(),sklearn.neighbors.KNeighborsClassifier(n_neighbors=7, weights='uniform'))\n",
    "best_knn.fit(train_feature_matrix, train_labels)\n",
    "predicted_knn = best_knn.predict(delayed_data[delayed_data.columns[:-1]])\n",
    "res_knn = sklearn.metrics.accuracy_score(predicted_knn, delayed_data[delayed_data.columns[-1]])\n",
    "print('KNN:', res_knn)\n",
    "\n",
    "best_lin = sklearn.linear_model.LogisticRegression(solver='saga', multi_class='multinomial', C=0.56, penalty='l1')\n",
    "best_lin.fit(train_feature_matrix, train_labels)\n",
    "predicted_lin = best_lin.predict(delayed_data[delayed_data.columns[:-1]])\n",
    "res_lin = sklearn.metrics.accuracy_score(predicted_lin, delayed_data[delayed_data.columns[-1]])\n",
    "print('LOGIT:', res_lin)\n",
    "# KNN лучше"
   ]
  },
  {
   "cell_type": "code",
   "execution_count": null,
   "metadata": {},
   "outputs": [],
   "source": []
  }
 ],
 "metadata": {
  "colab": {
   "collapsed_sections": [
    "dKCiU0wz25pj",
    "9MKHZ2JC25pv",
    "VYogShkD25qD",
    "p41xvYTU25qK"
   ],
   "default_view": {},
   "name": "HW1_Logistic_regression_and_SVM.ipynb",
   "provenance": [],
   "version": "0.3.2",
   "views": {}
  },
  "kernelspec": {
   "display_name": "Python 3",
   "language": "python",
   "name": "python3"
  },
  "language_info": {
   "codemirror_mode": {
    "name": "ipython",
    "version": 3
   },
   "file_extension": ".py",
   "mimetype": "text/x-python",
   "name": "python",
   "nbconvert_exporter": "python",
   "pygments_lexer": "ipython3",
   "version": "3.7.3"
  }
 },
 "nbformat": 4,
 "nbformat_minor": 2
}
